{
 "cells": [
  {
   "cell_type": "markdown",
   "metadata": {
    "id": "qEd4Of1S3AHd"
   },
   "source": [
    "# Section 1:  NumPy Solutions"
   ]
  },
  {
   "cell_type": "markdown",
   "metadata": {
    "id": "rI5fi9Ec3AHd"
   },
   "source": [
    "### Import the library with alias np"
   ]
  },
  {
   "cell_type": "code",
   "execution_count": 17,
   "metadata": {
    "ExecuteTime": {
     "end_time": "2020-11-18T14:11:52.500937Z",
     "start_time": "2020-11-18T14:11:52.493728Z"
    },
    "id": "JCog5Qpx3AHe"
   },
   "outputs": [],
   "source": [
    "import numpy as np"
   ]
  },
  {
   "cell_type": "markdown",
   "metadata": {
    "id": "Ebj0_8Cl3AHe"
   },
   "source": [
    "####  1. Create an array of  8 eights"
   ]
  },
  {
   "cell_type": "code",
   "execution_count": 18,
   "metadata": {
    "ExecuteTime": {
     "end_time": "2020-11-18T14:11:54.013984Z",
     "start_time": "2020-11-18T14:11:53.998764Z"
    },
    "id": "sVXJbUDn3AHe"
   },
   "outputs": [
    {
     "data": {
      "text/plain": [
       "array([8., 8., 8., 8., 8., 8., 8., 8.])"
      ]
     },
     "execution_count": 18,
     "metadata": {},
     "output_type": "execute_result"
    }
   ],
   "source": [
    "# Create an array of 8 eights using NumPy\n",
    "np.ones(8)*8\n"
   ]
  },
  {
   "cell_type": "markdown",
   "metadata": {
    "id": "LU_4XIer3AHe"
   },
   "source": [
    "#### 2. Create an array of the integers from 10 to 50"
   ]
  },
  {
   "cell_type": "code",
   "execution_count": 19,
   "metadata": {},
   "outputs": [
    {
     "name": "stdout",
     "output_type": "stream",
     "text": [
      "[10 11 12 13 14 15 16 17 18 19 20 21 22 23 24 25 26 27 28 29 30 31 32 33\n",
      " 34 35 36 37 38 39 40 41 42 43 44 45 46 47 48 49 50]\n"
     ]
    }
   ],
   "source": [
    "# Create an array of integers from 10 to 50\n",
    "integers_array = np.arange(10, 51)\n",
    "\n",
    "print(integers_array)"
   ]
  },
  {
   "cell_type": "markdown",
   "metadata": {
    "id": "Ahh4V67O3AHf"
   },
   "source": [
    "#### 3. Create a 3x3 matrix with values ranging from 22 to 30"
   ]
  },
  {
   "cell_type": "code",
   "execution_count": 20,
   "metadata": {
    "ExecuteTime": {
     "end_time": "2020-11-18T14:12:12.695697Z",
     "start_time": "2020-11-18T14:12:12.680091Z"
    },
    "id": "iYsl73bS3AHf"
   },
   "outputs": [
    {
     "data": {
      "text/plain": [
       "array([[22, 23, 24],\n",
       "       [25, 26, 27],\n",
       "       [28, 29, 30]])"
      ]
     },
     "execution_count": 20,
     "metadata": {},
     "output_type": "execute_result"
    }
   ],
   "source": [
    "arr = np.arange(22,31).reshape(3,3)\n",
    "arr"
   ]
  },
  {
   "cell_type": "markdown",
   "metadata": {
    "id": "EfibzwB83AHf"
   },
   "source": [
    "## Indexing\n",
    "Use below Array 'arr' for Questions below. \n",
    "\n",
    "arr = np.arange(26,51).reshape(5,5)\n",
    "\n"
   ]
  },
  {
   "cell_type": "code",
   "execution_count": 21,
   "metadata": {
    "ExecuteTime": {
     "end_time": "2020-11-18T14:12:18.179297Z",
     "start_time": "2020-11-18T14:12:18.166890Z"
    },
    "id": "XzmCCFmk3AHf"
   },
   "outputs": [
    {
     "data": {
      "text/plain": [
       "array([[26, 27, 28, 29, 30],\n",
       "       [31, 32, 33, 34, 35],\n",
       "       [36, 37, 38, 39, 40],\n",
       "       [41, 42, 43, 44, 45],\n",
       "       [46, 47, 48, 49, 50]])"
      ]
     },
     "execution_count": 21,
     "metadata": {},
     "output_type": "execute_result"
    }
   ],
   "source": [
    "arr = np.arange(26,51).reshape(5,5)\n",
    "arr"
   ]
  },
  {
   "cell_type": "markdown",
   "metadata": {
    "collapsed": true,
    "id": "ib0aYLy03AHf"
   },
   "source": [
    "#### 4. Use indexing on arr to get below output\n",
    "\n",
    "       [[37, 38, 39, 40],\n",
    "       [42, 43, 44, 45],\n",
    "       [47, 48, 49, 50]]"
   ]
  },
  {
   "cell_type": "code",
   "execution_count": 22,
   "metadata": {
    "ExecuteTime": {
     "end_time": "2020-11-18T14:12:23.162386Z",
     "start_time": "2020-11-18T14:12:23.157846Z"
    },
    "id": "jaeiYbSG3AHf"
   },
   "outputs": [
    {
     "data": {
      "text/plain": [
       "array([[37, 38, 39, 40],\n",
       "       [42, 43, 44, 45],\n",
       "       [47, 48, 49, 50]])"
      ]
     },
     "execution_count": 22,
     "metadata": {},
     "output_type": "execute_result"
    }
   ],
   "source": [
    "arr[2:,1:]"
   ]
  },
  {
   "cell_type": "markdown",
   "metadata": {
    "collapsed": true,
    "id": "roerkfJq3AHf"
   },
   "source": [
    "#### 5. Use indexing on arr to get below output\n",
    "Output should be 50"
   ]
  },
  {
   "cell_type": "code",
   "execution_count": 23,
   "metadata": {
    "ExecuteTime": {
     "end_time": "2020-11-18T14:12:33.245858Z",
     "start_time": "2020-11-18T14:12:33.228607Z"
    },
    "id": "TPOj_Ap33AHg"
   },
   "outputs": [
    {
     "data": {
      "text/plain": [
       "50"
      ]
     },
     "execution_count": 23,
     "metadata": {},
     "output_type": "execute_result"
    }
   ],
   "source": [
    "arr[4:,4][0]"
   ]
  },
  {
   "cell_type": "markdown",
   "metadata": {
    "collapsed": true,
    "id": "eQCb3G2W3AHg"
   },
   "source": [
    "#### 6. Use indexing on arr to get below output\n",
    "      [[27],\n",
    "       [32],\n",
    "       [37]]"
   ]
  },
  {
   "cell_type": "code",
   "execution_count": 24,
   "metadata": {
    "ExecuteTime": {
     "end_time": "2020-11-18T14:12:34.673380Z",
     "start_time": "2020-11-18T14:12:34.661768Z"
    },
    "id": "FKNH1ivg3AHg"
   },
   "outputs": [
    {
     "data": {
      "text/plain": [
       "array([[27],\n",
       "       [32],\n",
       "       [37]])"
      ]
     },
     "execution_count": 24,
     "metadata": {},
     "output_type": "execute_result"
    }
   ],
   "source": [
    "arr[0:3,1:2]"
   ]
  },
  {
   "cell_type": "markdown",
   "metadata": {
    "collapsed": true,
    "id": "J5I0tHl13AHg"
   },
   "source": [
    "#### 7. Use indexing on arr to get below output\n",
    "      [46, 47, 48, 49, 50]"
   ]
  },
  {
   "cell_type": "code",
   "execution_count": 25,
   "metadata": {
    "ExecuteTime": {
     "end_time": "2020-11-18T14:12:37.835049Z",
     "start_time": "2020-11-18T14:12:37.819006Z"
    },
    "id": "K_ds-9O83AHg"
   },
   "outputs": [
    {
     "data": {
      "text/plain": [
       "array([46, 47, 48, 49, 50])"
      ]
     },
     "execution_count": 25,
     "metadata": {},
     "output_type": "execute_result"
    }
   ],
   "source": [
    "arr[-1]"
   ]
  },
  {
   "cell_type": "markdown",
   "metadata": {
    "collapsed": true,
    "id": "N7If4Qm13AHg"
   },
   "source": [
    "#### 8. Use indexing on arr to get below output\n",
    "     [[41, 42, 43, 44, 45],\n",
    "       [46, 47, 48, 49, 50]]"
   ]
  },
  {
   "cell_type": "code",
   "execution_count": 29,
   "metadata": {
    "ExecuteTime": {
     "end_time": "2020-11-18T14:12:46.339838Z",
     "start_time": "2020-11-18T14:12:46.326961Z"
    },
    "id": "_ODDWmMI3AHg"
   },
   "outputs": [
    {
     "ename": "NameError",
     "evalue": "name 'matrix' is not defined",
     "output_type": "error",
     "traceback": [
      "\u001b[1;31m---------------------------------------------------------------------------\u001b[0m",
      "\u001b[1;31mNameError\u001b[0m                                 Traceback (most recent call last)",
      "Cell \u001b[1;32mIn[29], line 1\u001b[0m\n\u001b[1;32m----> 1\u001b[0m rows_41_to_50 \u001b[38;5;241m=\u001b[39m matrix[\u001b[38;5;241m1\u001b[39m:\u001b[38;5;241m3\u001b[39m, :]\n\u001b[0;32m      2\u001b[0m \u001b[38;5;28mprint\u001b[39m(\u001b[38;5;124m\"\u001b[39m\u001b[38;5;124mRows [[41, 42, 43, 44, 45], [46, 47, 48, 49, 50]]:\u001b[39m\u001b[38;5;124m\"\u001b[39m)\n\u001b[0;32m      3\u001b[0m \u001b[38;5;28mprint\u001b[39m(rows_41_to_50)\n",
      "\u001b[1;31mNameError\u001b[0m: name 'matrix' is not defined"
     ]
    }
   ],
   "source": [
    "rows_41_to_50 = matrix[1:3, :]\n",
    "print(\"Rows [[41, 42, 43, 44, 45], [46, 47, 48, 49, 50]]:\")\n",
    "print(rows_41_to_50)"
   ]
  },
  {
   "cell_type": "markdown",
   "metadata": {
    "id": "YAxzLy-33AHg"
   },
   "source": [
    "### NumPy  Stats Functions\n",
    "\n",
    "Use below given array 'arr'"
   ]
  },
  {
   "cell_type": "code",
   "execution_count": null,
   "metadata": {
    "ExecuteTime": {
     "end_time": "2020-11-18T14:12:51.416329Z",
     "start_time": "2020-11-18T14:12:51.398141Z"
    },
    "id": "rudcV8St3AHg"
   },
   "outputs": [],
   "source": []
  },
  {
   "cell_type": "markdown",
   "metadata": {
    "id": "ySZR5Kr23AHg"
   },
   "source": [
    "#### 9. Find the sum of all the values in given array 'arr'"
   ]
  },
  {
   "cell_type": "code",
   "execution_count": 30,
   "metadata": {
    "ExecuteTime": {
     "end_time": "2020-11-18T14:12:55.596990Z",
     "start_time": "2020-11-18T14:12:55.582257Z"
    },
    "id": "whUaKcc03AHg"
   },
   "outputs": [
    {
     "name": "stdout",
     "output_type": "stream",
     "text": [
      "Sum of all values in arr: 455\n"
     ]
    }
   ],
   "source": [
    "import numpy as np\n",
    "\n",
    "arr = np.array([[41, 42, 43, 44, 45],\n",
    "                [46, 47, 48, 49, 50]])\n",
    "\n",
    "# Find the sum of all the values in the array\n",
    "arr_sum = np.sum(arr) \n",
    "\n",
    "print(\"Sum of all values in arr:\", arr_sum)"
   ]
  },
  {
   "cell_type": "markdown",
   "metadata": {
    "id": "_JyZahWt3AHg"
   },
   "source": [
    "#### 10. Find the standard deviation of the values in given array 'arr'"
   ]
  },
  {
   "cell_type": "code",
   "execution_count": 31,
   "metadata": {
    "ExecuteTime": {
     "end_time": "2020-11-18T14:12:57.293052Z",
     "start_time": "2020-11-18T14:12:57.283021Z"
    },
    "id": "rd4x_3yk3AHg"
   },
   "outputs": [
    {
     "name": "stdout",
     "output_type": "stream",
     "text": [
      "Standard deviation of values in arr: 2.8722813232690143\n"
     ]
    }
   ],
   "source": [
    "arr_std = np.std(arr) \n",
    "\n",
    "print(\"Standard deviation of values in arr:\", arr_std) "
   ]
  },
  {
   "cell_type": "markdown",
   "metadata": {
    "id": "NdYwSQRO3AHg"
   },
   "source": [
    "#### 11.  Find the mean of all the values in given array 'arr'"
   ]
  },
  {
   "cell_type": "code",
   "execution_count": 32,
   "metadata": {
    "ExecuteTime": {
     "end_time": "2020-11-18T14:12:58.639514Z",
     "start_time": "2020-11-18T14:12:58.627432Z"
    },
    "id": "AuVb4eyn3AHg"
   },
   "outputs": [
    {
     "name": "stdout",
     "output_type": "stream",
     "text": [
      "Mean of all values in arr: 45.5\n"
     ]
    }
   ],
   "source": [
    "arr_mean = np.mean(arr) \n",
    "\n",
    "print(\"Mean of all values in arr:\", arr_mean) \n"
   ]
  },
  {
   "cell_type": "markdown",
   "metadata": {
    "id": "Kz8Skvet3AHh"
   },
   "source": [
    "# Section 2: Pandas Solutions"
   ]
  },
  {
   "cell_type": "markdown",
   "metadata": {
    "ExecuteTime": {
     "end_time": "2020-03-30T16:30:52.096627Z",
     "start_time": "2020-03-30T16:30:52.091679Z"
    },
    "id": "2odOFhTE3AHh"
   },
   "source": [
    "#### Import pandas library  with alias pd"
   ]
  },
  {
   "cell_type": "code",
   "execution_count": 33,
   "metadata": {
    "ExecuteTime": {
     "end_time": "2020-11-18T14:13:37.910604Z",
     "start_time": "2020-11-18T14:13:37.905737Z"
    },
    "id": "8m-2Cl5T3AHh"
   },
   "outputs": [],
   "source": [
    "import pandas as pd"
   ]
  },
  {
   "cell_type": "markdown",
   "metadata": {
    "id": "2HdntLZf3AHh"
   },
   "source": [
    "#### Read the given csv file"
   ]
  },
  {
   "cell_type": "code",
   "execution_count": 34,
   "metadata": {
    "ExecuteTime": {
     "end_time": "2020-11-18T14:13:38.270998Z",
     "start_time": "2020-11-18T14:13:38.258304Z"
    },
    "id": "ut8q2tUc3AHh"
   },
   "outputs": [],
   "source": [
    "df = pd.read_csv(\"C:\\\\Users\\\\SAHITHYA AAKULA\\\\OneDrive\\\\Desktop\\\\Data science case study\\\\case study2-python problems\\\\sales.csv\")"
   ]
  },
  {
   "cell_type": "markdown",
   "metadata": {
    "id": "mnYh_olF3AHh"
   },
   "source": [
    "### 1. What are the unique values in  the column \"Parking\"?"
   ]
  },
  {
   "cell_type": "code",
   "execution_count": 37,
   "metadata": {
    "ExecuteTime": {
     "end_time": "2020-11-18T14:13:38.709648Z",
     "start_time": "2020-11-18T14:13:38.696162Z"
    },
    "id": "IeGAaODN3AHh"
   },
   "outputs": [
    {
     "data": {
      "text/plain": [
       "array(['Open', 'Not Provided', 'Covered', 'No Parking'], dtype=object)"
      ]
     },
     "execution_count": 37,
     "metadata": {},
     "output_type": "execute_result"
    }
   ],
   "source": [
    "df[\"Parking\"].unique()"
   ]
  },
  {
   "cell_type": "markdown",
   "metadata": {
    "id": "tTDuFUS33AHh"
   },
   "source": [
    "### 2. What is the mean store area of the given data? "
   ]
  },
  {
   "cell_type": "code",
   "execution_count": 39,
   "metadata": {
    "ExecuteTime": {
     "end_time": "2020-11-18T14:13:40.025724Z",
     "start_time": "2020-11-18T14:13:40.012289Z"
    },
    "id": "MnXIW1Mn3AHh"
   },
   "outputs": [
    {
     "data": {
      "text/plain": [
       "1511.862554112554"
      ]
     },
     "execution_count": 39,
     "metadata": {},
     "output_type": "execute_result"
    }
   ],
   "source": [
    "df[\"Store_Area\"].mean()"
   ]
  },
  {
   "cell_type": "markdown",
   "metadata": {
    "id": "ykPHo_RI3AHh"
   },
   "source": [
    "### 3.What are the different columns available in the dataset?"
   ]
  },
  {
   "cell_type": "code",
   "execution_count": 40,
   "metadata": {
    "ExecuteTime": {
     "end_time": "2020-11-18T14:13:16.743995Z",
     "start_time": "2020-11-18T14:13:16.732919Z"
    },
    "id": "NyNmIDWN3AHh"
   },
   "outputs": [
    {
     "data": {
      "text/plain": [
       "Index(['Observation', 'Dist_Taxi', 'Dist_Market', 'Dist_Metro', 'Store_Area',\n",
       "       'Items_Available', 'Parking', 'Coupon_Category', 'Daily_Customer_Count',\n",
       "       'Store_Sales'],\n",
       "      dtype='object')"
      ]
     },
     "execution_count": 40,
     "metadata": {},
     "output_type": "execute_result"
    }
   ],
   "source": [
    "df.columns"
   ]
  },
  {
   "cell_type": "markdown",
   "metadata": {
    "id": "SR1DZqUX3AHh"
   },
   "source": [
    "### 4. Create a new series (series1) with only the values of third row"
   ]
  },
  {
   "cell_type": "code",
   "execution_count": 42,
   "metadata": {
    "ExecuteTime": {
     "end_time": "2020-11-18T14:16:46.680926Z",
     "start_time": "2020-11-18T14:16:46.671773Z"
    },
    "id": "p2wX9Hbo3AHh"
   },
   "outputs": [
    {
     "name": "stdout",
     "output_type": "stream",
     "text": [
      "Columns in the dataset: Index(['Observation', 'Dist_Taxi', 'Dist_Market', 'Dist_Metro', 'Store_Area',\n",
      "       'Items_Available', 'Parking', 'Coupon_Category', 'Daily_Customer_Count',\n",
      "       'Store_Sales'],\n",
      "      dtype='object')\n"
     ]
    }
   ],
   "source": [
    "print(\"Columns in the dataset:\", df.columns)\n"
   ]
  },
  {
   "cell_type": "markdown",
   "metadata": {
    "id": "Mggm22w03AHh"
   },
   "source": [
    "### 5. Create a new dataframe(df_short which contain first 5 rows and two columns(\"Coupon_Category\" and \"Store_Sales\")"
   ]
  },
  {
   "cell_type": "code",
   "execution_count": 43,
   "metadata": {
    "ExecuteTime": {
     "end_time": "2020-11-18T14:17:51.647071Z",
     "start_time": "2020-11-18T14:17:51.622431Z"
    },
    "id": "P75B5Mdk3AHh"
   },
   "outputs": [
    {
     "name": "stdout",
     "output_type": "stream",
     "text": [
      "Third row values: Observation                        3\n",
      "Dist_Taxi                    11001.0\n",
      "Dist_Market                  14399.0\n",
      "Dist_Metro                   16991.0\n",
      "Store_Area                    1340.0\n",
      "Items_Available               1609.0\n",
      "Parking                 Not Provided\n",
      "Coupon_Category                CAT A\n",
      "Daily_Customer_Count             720\n",
      "Store_Sales                    54010\n",
      "Name: 2, dtype: object\n"
     ]
    }
   ],
   "source": [
    "series1 = df.iloc[2]\n",
    "print(\"Third row values:\", series1)"
   ]
  },
  {
   "cell_type": "code",
   "execution_count": null,
   "metadata": {
    "ExecuteTime": {
     "end_time": "2020-11-18T14:18:32.167260Z",
     "start_time": "2020-11-18T14:18:32.151113Z"
    },
    "id": "9HP0WYd63AHh"
   },
   "outputs": [],
   "source": []
  },
  {
   "cell_type": "markdown",
   "metadata": {
    "id": "-AY8oe_e3AHh"
   },
   "source": [
    "### 6. In dataframe df_short, replace the index with [\"First Row\",\"Second Row\",\"Third Row\", \"Forth Row\", \"Fifth Row\"]"
   ]
  },
  {
   "cell_type": "code",
   "execution_count": 45,
   "metadata": {
    "ExecuteTime": {
     "end_time": "2020-11-18T14:21:49.755293Z",
     "start_time": "2020-11-18T14:21:49.720390Z"
    },
    "id": "KDf-FDvw3AHh"
   },
   "outputs": [
    {
     "name": "stdout",
     "output_type": "stream",
     "text": [
      "First 5 rows of df_short with 'Coupon_Category' and 'Store_Sales':\n",
      "   Coupon_Category  Store_Sales\n",
      "0           CAT B        66490\n",
      "1           CAT B        39820\n",
      "2           CAT A        54010\n",
      "3           CAT B        53730\n",
      "4           CAT B        46620\n"
     ]
    }
   ],
   "source": [
    "(\"Coupon_Category\" and \"Store_Sales\")\n",
    "df_short = df.head(5)[['Coupon_Category', 'Store_Sales']]\n",
    "print(\"First 5 rows of df_short with 'Coupon_Category' and 'Store_Sales':\\n\", df_short)"
   ]
  },
  {
   "cell_type": "markdown",
   "metadata": {
    "id": "b-Sc0v5c3AHh"
   },
   "source": [
    "### 7. Create a dataframe df2 fulfilling the given conditions - Dist_Metro>18000 and Parking= Open"
   ]
  },
  {
   "cell_type": "code",
   "execution_count": 46,
   "metadata": {
    "ExecuteTime": {
     "end_time": "2020-11-18T14:23:38.115765Z",
     "start_time": "2020-11-18T14:23:38.077015Z"
    },
    "id": "A3n8LKv83AHh"
   },
   "outputs": [
    {
     "name": "stdout",
     "output_type": "stream",
     "text": [
      "Updated df_short index:\n",
      "            Coupon_Category  Store_Sales\n",
      "First Row            CAT B        66490\n",
      "Second Row           CAT B        39820\n",
      "Third Row            CAT A        54010\n",
      "Fourth Row           CAT B        53730\n",
      "Fifth Row            CAT B        46620\n"
     ]
    }
   ],
   "source": [
    " [\"First Row\", \"Second Row\", \"Third Row\", \"Fourth Row\", \"Fifth Row\"]\n",
    "df_short.index = [\"First Row\", \"Second Row\", \"Third Row\", \"Fourth Row\", \"Fifth Row\"]\n",
    "print(\"Updated df_short index:\\n\", df_short)"
   ]
  },
  {
   "cell_type": "markdown",
   "metadata": {
    "id": "2y-pn0Sf3AHh"
   },
   "source": [
    "### 8.What is the minimum store sales and the standard Deviation of store sales."
   ]
  },
  {
   "cell_type": "code",
   "execution_count": 47,
   "metadata": {
    "ExecuteTime": {
     "end_time": "2020-11-18T14:24:50.994586Z",
     "start_time": "2020-11-18T14:24:50.976291Z"
    },
    "id": "XlFB1jHi3AHh"
   },
   "outputs": [
    {
     "name": "stdout",
     "output_type": "stream",
     "text": [
      "Dataframe df2 with conditions 'Dist_Metro > 18000' and 'Parking = Open':\n",
      "      Observation  Dist_Taxi  Dist_Market  Dist_Metro  Store_Area  \\\n",
      "88            89    14306.0      12591.0     18029.0      1441.0   \n",
      "218          219    11195.0      16650.0     18762.0      1406.0   \n",
      "338          339     9308.0      18281.0     18532.0      1771.0   \n",
      "742          743    12973.0      15178.0     18836.0      1542.0   \n",
      "791          792    14470.0      14517.0     18178.0      1645.0   \n",
      "930          931    15082.0      14700.0     19617.0      1299.0   \n",
      "\n",
      "     Items_Available Parking Coupon_Category  Daily_Customer_Count  \\\n",
      "88            1723.0    Open           CAT B                   330   \n",
      "218           1677.0    Open           CAT A                   480   \n",
      "338           2147.0    Open           CAT C                   430   \n",
      "742           1844.0    Open           CAT B                   680   \n",
      "791           1963.0    Open           CAT C                   900   \n",
      "930           1560.0    Open           CAT B                   770   \n",
      "\n",
      "     Store_Sales  \n",
      "88         57860  \n",
      "218        61660  \n",
      "338        62710  \n",
      "742        51380  \n",
      "791        47300  \n",
      "930        96610  \n"
     ]
    }
   ],
   "source": [
    "df2 = df[(df['Dist_Metro'] > 18000) & (df['Parking'] == 'Open')]\n",
    "print(\"Dataframe df2 with conditions 'Dist_Metro > 18000' and 'Parking = Open':\\n\", df2)"
   ]
  },
  {
   "cell_type": "markdown",
   "metadata": {
    "id": "AL8SBcCO3AHh"
   },
   "source": [
    "### 9. Group the dataset with respect to the variable 'Coupon_Category' using aggregation function mean()"
   ]
  },
  {
   "cell_type": "code",
   "execution_count": 50,
   "metadata": {
    "ExecuteTime": {
     "end_time": "2020-11-18T14:25:13.055098Z",
     "start_time": "2020-11-18T14:25:13.022218Z"
    },
    "id": "OVzSHvo73AHh"
   },
   "outputs": [
    {
     "name": "stdout",
     "output_type": "stream",
     "text": [
      "Mean Store Sales by Coupon_Category:\n",
      " Coupon_Category\n",
      "CAT A    73998.662614\n",
      "CAT B    59191.479452\n",
      "CAT C    45205.504202\n",
      "Name: Store_Sales, dtype: float64\n"
     ]
    }
   ],
   "source": [
    "\n",
    "grouped_by_coupon = df.groupby('Coupon_Category')['Store_Sales'].mean()\n",
    "print(\"Mean Store Sales by Coupon_Category:\\n\", grouped_by_coupon)\n"
   ]
  },
  {
   "cell_type": "markdown",
   "metadata": {
    "id": "4jwneK3X3AHh"
   },
   "source": [
    "### 10. Drop the variable 'Parking' from the data."
   ]
  },
  {
   "cell_type": "code",
   "execution_count": 52,
   "metadata": {
    "ExecuteTime": {
     "end_time": "2020-11-18T14:33:19.645834Z",
     "start_time": "2020-11-18T14:33:19.625905Z"
    },
    "id": "0jCWjicT3AHh"
   },
   "outputs": [
    {
     "name": "stdout",
     "output_type": "stream",
     "text": [
      "Data without 'Parking' column:\n",
      "    Observation  Dist_Taxi  Dist_Market  Dist_Metro  Store_Area  \\\n",
      "0            1     9796.0       5250.0     10703.0      1659.0   \n",
      "1            2     8294.0       8186.0     12694.0      1461.0   \n",
      "2            3    11001.0      14399.0     16991.0      1340.0   \n",
      "3            4     8301.0      11188.0     12289.0      1451.0   \n",
      "4            5    10510.0      12629.0     13921.0      1770.0   \n",
      "\n",
      "   Items_Available Coupon_Category  Daily_Customer_Count  Store_Sales  \n",
      "0           1961.0           CAT B                   530        66490  \n",
      "1           1752.0           CAT B                   210        39820  \n",
      "2           1609.0           CAT A                   720        54010  \n",
      "3           1748.0           CAT B                   620        53730  \n",
      "4           2111.0           CAT B                   450        46620  \n"
     ]
    }
   ],
   "source": [
    "df_no_parking = df.drop(columns=['Parking'])\n",
    "print(\"Data without 'Parking' column:\\n\", df_no_parking.head())"
   ]
  },
  {
   "cell_type": "markdown",
   "metadata": {
    "id": "7N0BaB-L3AHh"
   },
   "source": [
    "### 11. Export the Q10 dataframe without the 'Parking' column into a csv file."
   ]
  },
  {
   "cell_type": "code",
   "execution_count": 53,
   "metadata": {
    "id": "soaVDcUu3AHh"
   },
   "outputs": [],
   "source": [
    "df_no_parking.to_csv('data_without_parking.csv', index=False)\n"
   ]
  },
  {
   "cell_type": "markdown",
   "metadata": {
    "id": "Dr3kTYW43AHi"
   },
   "source": [
    "# Question on some additional functions"
   ]
  },
  {
   "cell_type": "markdown",
   "metadata": {
    "id": "Uemi19jk3AHi"
   },
   "source": [
    "###  Display the first 10 entries of the dataset.  (Hint-use function head())"
   ]
  },
  {
   "cell_type": "code",
   "execution_count": 54,
   "metadata": {
    "ExecuteTime": {
     "end_time": "2020-11-18T14:36:32.155436Z",
     "start_time": "2020-11-18T14:36:32.114317Z"
    },
    "id": "S1dF6VLM3AHi"
   },
   "outputs": [
    {
     "name": "stdout",
     "output_type": "stream",
     "text": [
      "First 10 entries:\n",
      "    Observation  Dist_Taxi  Dist_Market  Dist_Metro  Store_Area  \\\n",
      "0            1     9796.0       5250.0     10703.0      1659.0   \n",
      "1            2     8294.0       8186.0     12694.0      1461.0   \n",
      "2            3    11001.0      14399.0     16991.0      1340.0   \n",
      "3            4     8301.0      11188.0     12289.0      1451.0   \n",
      "4            5    10510.0      12629.0     13921.0      1770.0   \n",
      "5            6     6665.0       5142.0      9972.0      1442.0   \n",
      "6            7    13153.0      11869.0     17811.0      1542.0   \n",
      "7            8     5882.0       9948.0     13315.0      1261.0   \n",
      "8            9     7495.0      11589.0     13370.0      1090.0   \n",
      "9           10     8233.0       7067.0     11400.0      1030.0   \n",
      "\n",
      "   Items_Available       Parking Coupon_Category  Daily_Customer_Count  \\\n",
      "0           1961.0          Open           CAT B                   530   \n",
      "1           1752.0  Not Provided           CAT B                   210   \n",
      "2           1609.0  Not Provided           CAT A                   720   \n",
      "3           1748.0       Covered           CAT B                   620   \n",
      "4           2111.0  Not Provided           CAT B                   450   \n",
      "5           1733.0          Open           CAT B                   760   \n",
      "6           1858.0    No Parking           CAT A                  1030   \n",
      "7           1507.0          Open           CAT C                  1020   \n",
      "8           1321.0  Not Provided           CAT B                   680   \n",
      "9           1235.0          Open           CAT C                  1130   \n",
      "\n",
      "   Store_Sales  \n",
      "0        66490  \n",
      "1        39820  \n",
      "2        54010  \n",
      "3        53730  \n",
      "4        46620  \n",
      "5        45260  \n",
      "6        72240  \n",
      "7        37720  \n",
      "8        46310  \n",
      "9        44150  \n"
     ]
    }
   ],
   "source": [
    "print(\"First 10 entries:\\n\", df.head(10))"
   ]
  },
  {
   "cell_type": "markdown",
   "metadata": {
    "id": "y6SgxqGL3AHi"
   },
   "source": [
    "###  Display the last 5 entries of the dataset.(Hint- use function tail())"
   ]
  },
  {
   "cell_type": "code",
   "execution_count": 55,
   "metadata": {
    "ExecuteTime": {
     "end_time": "2020-11-18T14:36:34.001258Z",
     "start_time": "2020-11-18T14:36:33.973807Z"
    },
    "id": "2YTxwPHF3AHi"
   },
   "outputs": [
    {
     "name": "stdout",
     "output_type": "stream",
     "text": [
      "Last 5 entries:\n",
      "      Observation  Dist_Taxi  Dist_Market  Dist_Metro  Store_Area  \\\n",
      "927          928    12176.0       8518.0     15673.0      1582.0   \n",
      "928          929     7214.0       8717.0     10553.0      1387.0   \n",
      "929          930     7423.0      11708.0     13220.0      1200.0   \n",
      "930          931    15082.0      14700.0     19617.0      1299.0   \n",
      "931          932     9297.0      12537.0     14418.0      1174.0   \n",
      "\n",
      "     Items_Available  Parking Coupon_Category  Daily_Customer_Count  \\\n",
      "927           1910.0  Covered           CAT C                  1080   \n",
      "928           1663.0     Open           CAT A                   850   \n",
      "929           1436.0     Open           CAT A                  1060   \n",
      "930           1560.0     Open           CAT B                   770   \n",
      "931           1429.0  Covered           CAT C                  1110   \n",
      "\n",
      "     Store_Sales  \n",
      "927        66390  \n",
      "928        82080  \n",
      "929        76440  \n",
      "930        96610  \n",
      "931        54340  \n"
     ]
    }
   ],
   "source": [
    "print(\"Last 5 entries:\\n\", df.tail(5))\n"
   ]
  },
  {
   "cell_type": "markdown",
   "metadata": {
    "id": "446-b4oM3AHi"
   },
   "source": [
    "### How many rows and columns are present in the dataset? (Hint- Use function shape)"
   ]
  },
  {
   "cell_type": "code",
   "execution_count": 56,
   "metadata": {
    "ExecuteTime": {
     "end_time": "2020-11-18T14:36:36.645156Z",
     "start_time": "2020-11-18T14:36:36.630788Z"
    },
    "id": "9Q9PLF1M3AHi"
   },
   "outputs": [
    {
     "name": "stdout",
     "output_type": "stream",
     "text": [
      "Shape of the dataset (rows, columns): (932, 10)\n"
     ]
    }
   ],
   "source": [
    "print(\"Shape of the dataset (rows, columns):\", df.shape)"
   ]
  },
  {
   "cell_type": "markdown",
   "metadata": {
    "id": "7g104FC63AHi"
   },
   "source": [
    "###  What are the different data types of the variables in the given dataset? (Hint- Use function info())"
   ]
  },
  {
   "cell_type": "code",
   "execution_count": 57,
   "metadata": {
    "ExecuteTime": {
     "end_time": "2020-11-18T14:36:42.359869Z",
     "start_time": "2020-11-18T14:36:42.336713Z"
    },
    "id": "G7Gou6lh3AHi"
   },
   "outputs": [
    {
     "name": "stdout",
     "output_type": "stream",
     "text": [
      "<class 'pandas.core.frame.DataFrame'>\n",
      "RangeIndex: 932 entries, 0 to 931\n",
      "Data columns (total 10 columns):\n",
      " #   Column                Non-Null Count  Dtype  \n",
      "---  ------                --------------  -----  \n",
      " 0   Observation           932 non-null    int64  \n",
      " 1   Dist_Taxi             919 non-null    float64\n",
      " 2   Dist_Market           919 non-null    float64\n",
      " 3   Dist_Metro            931 non-null    float64\n",
      " 4   Store_Area            924 non-null    float64\n",
      " 5   Items_Available       917 non-null    float64\n",
      " 6   Parking               932 non-null    object \n",
      " 7   Coupon_Category       932 non-null    object \n",
      " 8   Daily_Customer_Count  932 non-null    int64  \n",
      " 9   Store_Sales           932 non-null    int64  \n",
      "dtypes: float64(5), int64(3), object(2)\n",
      "memory usage: 72.9+ KB\n",
      "Data types of the variables:\n",
      " None\n"
     ]
    }
   ],
   "source": [
    "print(\"Data types of the variables:\\n\", df.info())"
   ]
  },
  {
   "cell_type": "markdown",
   "metadata": {
    "id": "t1pI-o3y3AHi"
   },
   "source": [
    "**Or you can use below command as well**"
   ]
  },
  {
   "cell_type": "code",
   "execution_count": null,
   "metadata": {
    "ExecuteTime": {
     "end_time": "2020-11-18T14:37:28.472053Z",
     "start_time": "2020-11-18T14:37:28.456911Z"
    },
    "id": "z0Exle6g3AHi"
   },
   "outputs": [],
   "source": []
  },
  {
   "cell_type": "markdown",
   "metadata": {
    "id": "6-V0qkk23AHi"
   },
   "source": [
    "# END"
   ]
  }
 ],
 "metadata": {
  "colab": {
   "collapsed_sections": [
    "eQCb3G2W3AHg",
    "J5I0tHl13AHg",
    "N7If4Qm13AHg",
    "ySZR5Kr23AHg",
    "2odOFhTE3AHh",
    "2HdntLZf3AHh"
   ],
   "name": "Questions_Store Sale.ipynb",
   "provenance": []
  },
  "kernelspec": {
   "display_name": "Python 3 (ipykernel)",
   "language": "python",
   "name": "python3"
  },
  "language_info": {
   "codemirror_mode": {
    "name": "ipython",
    "version": 3
   },
   "file_extension": ".py",
   "mimetype": "text/x-python",
   "name": "python",
   "nbconvert_exporter": "python",
   "pygments_lexer": "ipython3",
   "version": "3.11.5"
  },
  "toc": {
   "base_numbering": 1,
   "nav_menu": {},
   "number_sections": true,
   "sideBar": true,
   "skip_h1_title": false,
   "title_cell": "Table of Contents",
   "title_sidebar": "Contents",
   "toc_cell": false,
   "toc_position": {},
   "toc_section_display": true,
   "toc_window_display": false
  },
  "varInspector": {
   "cols": {
    "lenName": 16,
    "lenType": 16,
    "lenVar": 40
   },
   "kernels_config": {
    "python": {
     "delete_cmd_postfix": "",
     "delete_cmd_prefix": "del ",
     "library": "var_list.py",
     "varRefreshCmd": "print(var_dic_list())"
    },
    "r": {
     "delete_cmd_postfix": ") ",
     "delete_cmd_prefix": "rm(",
     "library": "var_list.r",
     "varRefreshCmd": "cat(var_dic_list()) "
    }
   },
   "types_to_exclude": [
    "module",
    "function",
    "builtin_function_or_method",
    "instance",
    "_Feature"
   ],
   "window_display": false
  }
 },
 "nbformat": 4,
 "nbformat_minor": 1
}
